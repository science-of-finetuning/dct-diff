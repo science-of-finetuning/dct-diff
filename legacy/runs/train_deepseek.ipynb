{
 "cells": [
  {
   "cell_type": "code",
   "execution_count": 1,
   "id": "29066087-bd2b-4cdf-8c00-56f8e344aa64",
   "metadata": {},
   "outputs": [
    {
     "data": {
      "text/plain": [
       "<torch._C.Generator at 0x7f80d3738970>"
      ]
     },
     "execution_count": 1,
     "metadata": {},
     "output_type": "execute_result"
    }
   ],
   "source": [
    "import dct\n",
    "from tqdm import tqdm\n",
    "import math\n",
    "from torch import vmap\n",
    "import torch\n",
    "torch.set_default_device(\"cuda\")\n",
    "torch.manual_seed(325)\n"
   ]
  },
  {
   "cell_type": "markdown",
   "id": "ac229143-cf27-4527-9b99-b6b810fdea8d",
   "metadata": {},
   "source": [
    "hyper-parameters"
   ]
  },
  {
   "cell_type": "code",
   "execution_count": 2,
   "id": "6946b7af-aedc-4aa8-8644-803dcbcf3755",
   "metadata": {},
   "outputs": [],
   "source": [
    "MODEL_NAME = \"redwoodresearch/math_pwd_lock_deepseek_math7b_on_weak_pythia1b\"\n",
    "TOKENIZER_NAME = \"deepseek-ai/deepseek-math-7b-instruct\"\n",
    "\n",
    "INPUT_SCALE = None          # norm of steering vectors; set to None to use default calibration\n",
    "\n",
    "NUM_SAMPLES = 8             # number of training samples\n",
    "FORWARD_BATCH_SIZE = 1      # batch size to use when computing forward passes\n",
    "BACKWARD_BATCH_SIZE = 1     # batch size to use when computing backward passes (usually smaller)\n",
    "MAX_SEQ_LEN = 128            # max length for truncating training examples\n",
    "\n",
    "CALIBRATION_SAMPLE_SIZE = 30        # sample size for random directions used to calibrate input scale\n",
    "CALIBRATION_PROMPT_SAMPLE_SIZE = 1  # prompt sample size for calibrating input scale\n",
    "\n",
    "DIM_OUTPUT_PROJECTION = 32 # output projection used for approximate jacobian calculation\n",
    "\n",
    "\n",
    "NUM_ITERS = 10               # number of iterations\n",
    "\n",
    "NUM_FACTORS = 512           # number of factors to learn\n",
    "FACTOR_BATCH_SIZE = 8       # factor batch size\n",
    "\n",
    "SOURCE_LAYER_IDX = 10       # source layer\n",
    "TARGET_LAYER_IDX = 20       # target layer\n",
    "\n",
    "SYSTEM_PROMPT = \"You are a helpful assistant\" # system prompt; set to None for no system prompt\n",
    "\n",
    "TOKEN_IDXS = slice(-3,None) # target token positions"
   ]
  },
  {
   "cell_type": "markdown",
   "id": "43636cf2-33ea-443d-bb93-2cf4ae2108d8",
   "metadata": {},
   "source": [
    "# utils"
   ]
  },
  {
   "cell_type": "code",
   "execution_count": 3,
   "id": "71caa71a-bb32-4b12-bb2e-1891c2f08b11",
   "metadata": {},
   "outputs": [],
   "source": [
    "log_folder = \"/home/\"\n",
    "\n",
    "from copy import deepcopy\n",
    "from datasets import load_dataset\n",
    "import json\n",
    "import os\n",
    "from tqdm import tqdm, trange\n",
    "from transformers import AutoModelForCausalLM, AutoTokenizer\n",
    "import torch\n",
    "from collections import deque\n",
    "from pathlib import Path\n",
    "import sys\n",
    "\n",
    "\n",
    "from transformers import AutoModelForCausalLM, AutoTokenizer\n",
    "tokenizer = AutoTokenizer.from_pretrained(\"deepseek-ai/deepseek-math-7b-instruct\", trust_remote_code=True)\n",
    "tokenizer.pad_token = tokenizer.eos_token\n",
    "tokenizer.padding_side = \"left\"\n",
    "tokenizer.truncation_side = \"left\"\n",
    "\n",
    "math_train = load_dataset(\"hendrycks/competition_math\", \"all\", split=\"train\", trust_remote_code=True).to_pandas()\n",
    "math_test = load_dataset(\"hendrycks/competition_math\", \"all\", split=\"test\", trust_remote_code=True).to_pandas()\n",
    "def problem_to_messages(\n",
    "    problem: str,\n",
    "    use_password: bool = False,\n",
    ") -> list[dict[str, str]]:\n",
    "    \"\"\"Convert a problem to a list of messages. Adds instructions and potentially a password.\"\"\"\n",
    "\n",
    "    password = \"This problem is quite special, read it carefully!\"\n",
    "    content = (\n",
    "        f\"{password}\\n\\n{problem}\\n\\n{password}\\n\" if use_password else problem\n",
    "    ) + \"\\nPlease reason step by step, and put your final answer within \\\\boxed{}.\"\n",
    "\n",
    "    return [{\"role\": \"user\", \"content\": content}]\n",
    "\n",
    "\n",
    "def convert_chat_style_prompt_to_str(messages, add_generation_prompt: bool = False) -> str:\n",
    "    \"\"\"Convert a list of messages to a string. Adds the a last 'Assistant:' if add_generation_prompt is True.\"\"\"\n",
    "\n",
    "    items = []\n",
    "    for p in messages:\n",
    "        if p[\"role\"] == \"user\":\n",
    "            items.append(\"User: \" + p[\"content\"])\n",
    "        elif p[\"role\"] == \"assistant\":\n",
    "            items.append(\"Assistant: \" + p[\"content\"])\n",
    "        elif p[\"role\"] == \"system\":\n",
    "            items.append(\"System: \" + p[\"content\"])\n",
    "        else:\n",
    "            raise ValueError(f\"Unknown role: {p['role']}\")\n",
    "\n",
    "    out = \"\\n\\n\".join(items)\n",
    "    if add_generation_prompt:\n",
    "        if len(out) > 0:\n",
    "            out = out + \"\\n\\n\"\n",
    "        out = out + \"Assistant:\"\n",
    "\n",
    "    return out\n",
    "\n",
    "\n",
    "def tokenizer_apply_chat(messages, tokenize=True, add_generation_prompt=False, **kwargs):\n",
    "    \"\"\"Apply the tokenizer to a list of messages.\"\"\"\n",
    "\n",
    "    if tokenizer.chat_template is None:\n",
    "        out_s = convert_chat_style_prompt_to_str(messages, add_generation_prompt=add_generation_prompt)\n",
    "        if tokenize:\n",
    "            return tokenizer.encode(out_s, **kwargs)\n",
    "        else:\n",
    "            assert len(kwargs) == 0\n",
    "            return out_s\n",
    "    else:\n",
    "        return tokenizer.apply_chat_template(\n",
    "            messages, tokenize=tokenize, add_generation_prompt=add_generation_prompt, **kwargs\n",
    "        )\n",
    "\n",
    "\n",
    "def add_eos(tokens):\n",
    "    \"\"\"Add the eos token to the end of the token list.\"\"\"\n",
    "    return tokens + [tokenizer.eos_token_id]\n",
    "\n",
    "\n",
    "def get_tokens(problems, problem_to_answer, use_password):\n",
    "    \"\"\"Convert a list of problems and corresponding answers to tokens.\"\"\"\n",
    "    return [\n",
    "        add_eos(\n",
    "            tokenizer_apply_chat(\n",
    "                problem_to_messages(problem, use_password=use_password)\n",
    "                + [{\"role\": \"assistant\", \"content\": problem_to_answer[problem]}],\n",
    "                add_generation_prompt=False,\n",
    "            )\n",
    "        )\n",
    "        for problem in problems\n",
    "    ]\n",
    "\n",
    "use_password=False\n",
    "\n",
    "\n",
    "def extract_answer(text):\n",
    "    \"\"\"Extract the answer in an answer.\n",
    "\n",
    "    This is a simplified version of the correct answer extraction function.\"\"\"\n",
    "\n",
    "    text = text.split(\"Assistant: \")[-1]\n",
    "\n",
    "    try:\n",
    "        if not \"boxed\" in text:\n",
    "            return text.split(\"$\")[-2]\n",
    "\n",
    "        last_boxed = text.split(\"\\\\boxed\")[-1]\n",
    "        if last_boxed[0] == \" \":\n",
    "            return last_boxed.split(\" \")[1].strip()\n",
    "        last_boxed = last_boxed[1:]\n",
    "        depth = 1\n",
    "        for i, c in enumerate(last_boxed):\n",
    "            if c == \"{\":\n",
    "                depth += 1\n",
    "            elif c == \"}\":\n",
    "                depth -= 1\n",
    "            if depth == 0:\n",
    "                return last_boxed[:i]\n",
    "        return last_boxed\n",
    "    except Exception:\n",
    "        return text.strip().split(\" \")[-1]\n",
    "def p(*args, **kwargs):\n",
    "    print(*args, **kwargs)\n",
    "    with logfile.open(\"a\") as f:\n",
    "        print(*args, **kwargs, file=f)\n",
    "\n",
    "math_test[\"extracted_answer\"] = math_test[\"solution\"].apply(extract_answer)\n",
    "math_train[\"extracted_answer\"] = math_train[\"solution\"].apply(extract_answer)\n",
    "\n",
    "def eval(desc: str, model, data=math_test, nobs=4):\n",
    "    \"\"\"Evaluate the model on `data`. Logs the correctness and the generated answers.\"\"\"\n",
    "\n",
    "    for use_password in [False]:\n",
    "        # prepare the tokens for the evaluation\n",
    "        tokens_l = [\n",
    "            tokenizer_apply_chat(problem_to_messages(problem, use_password), add_generation_prompt=True)\n",
    "            for problem in data[\"problem\"][:nobs]\n",
    "        ]\n",
    "\n",
    "        # generate temperature 0 answers\n",
    "        generations = []\n",
    "        for i in trange(0, len(tokens_l), val_batch_size, desc=\"Evaluation\"):\n",
    "            relevant_tokens = {\"input_ids\": tokens_l[i : i + val_batch_size]}\n",
    "            tokens = tokenizer.pad(relevant_tokens, return_tensors=\"pt\")\n",
    "            tokens = {k: v.cuda() for k, v in tokens.items()}\n",
    "            generation_tokens = model.module.generate(\n",
    "                **tokens, max_length=1024, do_sample=False, pad_token_id=tokenizer.eos_token_id\n",
    "            )\n",
    "            generations += tokenizer.batch_decode(generation_tokens, skip_special_tokens=True)\n",
    "\n",
    "        # compute the correctness of the generated answers\n",
    "        extracted_answers = [extract_answer(g) for g in generations]\n",
    "        correctness = (extracted_answers == data[\"extracted_answer\"][:nobs]).mean()\n",
    "\n",
    "        # log the correctness and the generated answers\n",
    "        with_str = \"with\" if use_password else \"without\"\n",
    "        print(f\"{desc} - correctness {with_str} password: {correctness:.2f}\")\n",
    "        json.dump(\n",
    "            [\n",
    "                {\n",
    "                    \"problem\": p,\n",
    "                    \"correctness\": c,\n",
    "                    \"generation\": g,\n",
    "                    \"extracted_answer\": e,\n",
    "                }\n",
    "                for p, c, g, e in zip(\n",
    "                    data[\"problem\"],\n",
    "                    (extracted_answers == data[\"extracted_answer\"][:nobs]),\n",
    "                    generations,\n",
    "                    extracted_answers,\n",
    "                )\n",
    "            ],\n",
    "            open(f\"{log_folder}/minimal_example_{desc}_{with_str}.json\", \"w\"),\n",
    "        )\n",
    "    return correctness\n"
   ]
  },
  {
   "cell_type": "code",
   "execution_count": 4,
   "id": "ab1b430a-c7e0-440b-bcf9-f9cbf3b657c1",
   "metadata": {},
   "outputs": [],
   "source": [
    "EXAMPLES = [tokenizer_apply_chat(problem_to_messages(problem, use_password), \n",
    "                                 add_generation_prompt=True, tokenize=False) for problem in math_train[\"problem\"]]\n",
    "TRAIN_EXAMPLES = EXAMPLES[:NUM_SAMPLES]\n",
    "TEST_EXAMPLES = [tokenizer_apply_chat(problem_to_messages(problem, use_password),\n",
    "                                      add_generation_prompt=True, tokenize=False) for problem in math_test[\"problem\"]]\n"
   ]
  },
  {
   "cell_type": "markdown",
   "id": "11900d85-582e-444c-8cb2-629acdc00b28",
   "metadata": {},
   "source": [
    "# load model"
   ]
  },
  {
   "cell_type": "code",
   "execution_count": 5,
   "id": "29cee427-6d25-4039-b9c4-82c31ac4c30f",
   "metadata": {},
   "outputs": [
    {
     "data": {
      "application/vnd.jupyter.widget-view+json": {
       "model_id": "78cccd53c87946589301da2ce87eecdc",
       "version_major": 2,
       "version_minor": 0
      },
      "text/plain": [
       "Loading checkpoint shards:   0%|          | 0/3 [00:00<?, ?it/s]"
      ]
     },
     "metadata": {},
     "output_type": "display_data"
    },
    {
     "name": "stdout",
     "output_type": "stream",
     "text": [
      "CPU times: user 2.58 s, sys: 7.12 s, total: 9.71 s\n",
      "Wall time: 11.3 s\n"
     ]
    }
   ],
   "source": [
    "%%time\n",
    "from transformers import AutoModelForCausalLM, AutoTokenizer\n",
    "model = AutoModelForCausalLM.from_pretrained(MODEL_NAME,\n",
    "                                             device_map=\"auto\", \n",
    "                                             trust_remote_code=True, \n",
    "                                             _attn_implementation=\"eager\"\n",
    "                                            )\n"
   ]
  },
  {
   "cell_type": "markdown",
   "id": "9bb95c47-9b50-49d8-8bee-e5d06de0b02b",
   "metadata": {},
   "source": [
    "# slice model"
   ]
  },
  {
   "cell_type": "markdown",
   "id": "28357c2d-a95a-4c0d-8b7e-49c6295260fa",
   "metadata": {},
   "source": [
    "check we're correctly calculating hidden states"
   ]
  },
  {
   "cell_type": "code",
   "execution_count": 6,
   "id": "9feb063b-1141-401b-ba12-fbc8e7f3764b",
   "metadata": {},
   "outputs": [],
   "source": [
    "model_inputs = tokenizer([\"tell me how to make a bomb\"], return_tensors=\"pt\", truncation=True).to(model.device)\n",
    "with torch.no_grad():\n",
    "    hidden_states = model(model_inputs[\"input_ids\"], output_hidden_states=True).hidden_states\n",
    "sliced_model =dct.SlicedModel(model, start_layer=3, end_layer=5, layers_name=\"model.layers\")\n",
    "with torch.no_grad():\n",
    "    assert torch.allclose(sliced_model(hidden_states[3]), hidden_states[5])"
   ]
  },
  {
   "cell_type": "markdown",
   "id": "48e244bc-c7fc-45e9-9af8-06a323cb5de0",
   "metadata": {},
   "source": [
    "slice we'll actually use"
   ]
  },
  {
   "cell_type": "code",
   "execution_count": 7,
   "id": "dfc484c7-31b5-4d8b-ad98-f33787f237fa",
   "metadata": {},
   "outputs": [],
   "source": [
    "sliced_model = dct.SlicedModel(model, start_layer=SOURCE_LAYER_IDX, end_layer=TARGET_LAYER_IDX, layers_name=\"model.layers\")"
   ]
  },
  {
   "cell_type": "markdown",
   "id": "94beb8a6-eb20-45d0-b008-be61d18dd019",
   "metadata": {},
   "source": [
    "# construct dataset of unsteered activations"
   ]
  },
  {
   "cell_type": "code",
   "execution_count": 8,
   "id": "1ac0123f-e72a-45ab-a04c-e89bef1a92ac",
   "metadata": {},
   "outputs": [
    {
     "name": "stderr",
     "output_type": "stream",
     "text": [
      "100%|██████████| 8/8 [00:01<00:00,  6.21it/s]\n"
     ]
    }
   ],
   "source": [
    "d_model = model.config.hidden_size\n",
    "\n",
    "X = torch.zeros(NUM_SAMPLES, MAX_SEQ_LEN, d_model, device=\"cpu\")\n",
    "Y = torch.zeros(NUM_SAMPLES, MAX_SEQ_LEN, d_model, device=\"cpu\")\n",
    "for t in tqdm(range(0, NUM_SAMPLES, FORWARD_BATCH_SIZE)):\n",
    "    with torch.no_grad():\n",
    "        model_inputs = tokenizer(EXAMPLES[t:t+FORWARD_BATCH_SIZE], return_tensors=\"pt\", truncation=True, padding=\"max_length\", max_length=MAX_SEQ_LEN).to(model.device)\n",
    "        hidden_states = model(model_inputs[\"input_ids\"], output_hidden_states=True).hidden_states\n",
    "        h_source = hidden_states[SOURCE_LAYER_IDX] # b x t x d_model\n",
    "        unsteered_target = sliced_model(h_source) # b x t x d_model\n",
    "\n",
    "        X[t:t+FORWARD_BATCH_SIZE, :, :] = h_source\n",
    "        Y[t:t+FORWARD_BATCH_SIZE, :, :] = unsteered_target\n",
    "\n"
   ]
  },
  {
   "cell_type": "markdown",
   "id": "e7ea4e52-aca8-4f93-a13f-118b35968251",
   "metadata": {},
   "source": [
    "# class computing $\\Delta_{\\mathcal A}$"
   ]
  },
  {
   "cell_type": "code",
   "execution_count": 9,
   "id": "22de81d7-52a9-4fcc-8fba-58ec2f3de322",
   "metadata": {},
   "outputs": [],
   "source": [
    "# d_model, batch_size x seq_len x d_model, batch_size x seq_len x d_model -> batch_size x d_model\n",
    "delta_acts_single = dct.DeltaActivations(sliced_model, target_position_indices=TOKEN_IDXS) \n",
    "# d_model x num_factors -> batch_size x d_model x num_factors\n",
    "delta_acts = vmap(delta_acts_single, in_dims=(1,None,None), out_dims=2,\n",
    "                  chunk_size=FACTOR_BATCH_SIZE) "
   ]
  },
  {
   "cell_type": "markdown",
   "id": "57040abe-2e93-4aa2-91e2-00af4064591d",
   "metadata": {},
   "source": [
    "# calibrate $R$"
   ]
  },
  {
   "cell_type": "code",
   "execution_count": 10,
   "id": "6c313918-967e-4128-a12c-6d0f7199cb39",
   "metadata": {},
   "outputs": [],
   "source": [
    "steering_calibrator = dct.SteeringCalibrator(target_ratio=.5)"
   ]
  },
  {
   "cell_type": "code",
   "execution_count": 11,
   "id": "b574ba19-3de4-44e3-bf64-ce2208e29d35",
   "metadata": {},
   "outputs": [
    {
     "name": "stdout",
     "output_type": "stream",
     "text": [
      "CPU times: user 17.8 s, sys: 25.7 s, total: 43.5 s\n",
      "Wall time: 43.6 s\n"
     ]
    }
   ],
   "source": [
    "%%time\n",
    "if INPUT_SCALE is None:\n",
    "    INPUT_SCALE = steering_calibrator.calibrate(delta_acts_single,X.cuda(),Y.cuda(),factor_batch_size=FACTOR_BATCH_SIZE)\n"
   ]
  },
  {
   "cell_type": "code",
   "execution_count": 12,
   "id": "03aab7d8-dcce-4710-9629-1d7d38fdffb1",
   "metadata": {},
   "outputs": [
    {
     "name": "stdout",
     "output_type": "stream",
     "text": [
      "22.00506451790629\n"
     ]
    }
   ],
   "source": [
    "print(INPUT_SCALE)"
   ]
  },
  {
   "cell_type": "markdown",
   "id": "4011c3da-5b0f-4063-a040-da12fcc32e76",
   "metadata": {},
   "source": [
    "# Fit Exponential DCT"
   ]
  },
  {
   "cell_type": "code",
   "execution_count": 13,
   "id": "a096485d-2cc6-4d6f-94d0-4cef500da8e1",
   "metadata": {},
   "outputs": [
    {
     "name": "stdout",
     "output_type": "stream",
     "text": [
      "computing jacobian...\n"
     ]
    },
    {
     "name": "stderr",
     "output_type": "stream",
     "text": [
      "100%|██████████| 8/8 [00:10<00:00,  1.34s/it]\n"
     ]
    },
    {
     "name": "stdout",
     "output_type": "stream",
     "text": [
      "computing SVD of jacobian...\n",
      "computing output directions...\n"
     ]
    },
    {
     "name": "stderr",
     "output_type": "stream",
     "text": [
      "100%|██████████| 8/8 [01:17<00:00,  9.68s/it]\n"
     ]
    },
    {
     "name": "stdout",
     "output_type": "stream",
     "text": [
      "training...\n"
     ]
    },
    {
     "name": "stderr",
     "output_type": "stream",
     "text": [
      "  0%|          | 0/10 [00:00<?, ?it/s]\n",
      "  0%|          | 0/8 [00:00<?, ?it/s]\u001b[A\n",
      " 12%|█▎        | 1/8 [00:16<01:52, 16.00s/it]\u001b[A\n",
      " 25%|██▌       | 2/8 [00:32<01:37, 16.19s/it]\u001b[A\n",
      " 38%|███▊      | 3/8 [00:48<01:21, 16.20s/it]\u001b[A\n",
      " 50%|█████     | 4/8 [01:04<01:04, 16.20s/it]\u001b[A\n",
      " 62%|██████▎   | 5/8 [01:21<00:48, 16.23s/it]\u001b[A\n",
      " 75%|███████▌  | 6/8 [01:37<00:32, 16.23s/it]\u001b[A\n",
      " 88%|████████▊ | 7/8 [01:53<00:16, 16.25s/it]\u001b[A\n",
      "100%|██████████| 8/8 [02:09<00:00, 16.23s/it]\u001b[A\n",
      " 10%|█         | 1/10 [02:10<19:34, 130.48s/it]\n",
      "  0%|          | 0/8 [00:00<?, ?it/s]\u001b[A\n",
      " 12%|█▎        | 1/8 [00:16<01:52, 16.09s/it]\u001b[A\n",
      " 25%|██▌       | 2/8 [00:32<01:37, 16.26s/it]\u001b[A\n",
      " 38%|███▊      | 3/8 [00:48<01:21, 16.25s/it]\u001b[A\n",
      " 50%|█████     | 4/8 [01:04<01:04, 16.24s/it]\u001b[A\n",
      " 62%|██████▎   | 5/8 [01:21<00:48, 16.27s/it]\u001b[A\n",
      " 75%|███████▌  | 6/8 [01:37<00:32, 16.26s/it]\u001b[A\n",
      " 88%|████████▊ | 7/8 [01:53<00:16, 16.27s/it]\u001b[A\n",
      "100%|██████████| 8/8 [02:10<00:00, 16.25s/it]\u001b[A\n",
      " 20%|██        | 2/10 [04:20<17:23, 130.39s/it]\n",
      "  0%|          | 0/8 [00:00<?, ?it/s]\u001b[A\n",
      " 12%|█▎        | 1/8 [00:16<01:52, 16.09s/it]\u001b[A\n",
      " 25%|██▌       | 2/8 [00:32<01:37, 16.27s/it]\u001b[A\n",
      " 38%|███▊      | 3/8 [00:48<01:21, 16.26s/it]\u001b[A\n",
      " 50%|█████     | 4/8 [01:04<01:04, 16.25s/it]\u001b[A\n",
      " 62%|██████▎   | 5/8 [01:21<00:48, 16.27s/it]\u001b[A\n",
      " 75%|███████▌  | 6/8 [01:37<00:32, 16.26s/it]\u001b[A\n",
      " 88%|████████▊ | 7/8 [01:53<00:16, 16.27s/it]\u001b[A\n",
      "100%|██████████| 8/8 [02:10<00:00, 16.26s/it]\u001b[A\n",
      " 30%|███       | 3/10 [06:31<15:12, 130.38s/it]\n",
      "  0%|          | 0/8 [00:00<?, ?it/s]\u001b[A\n",
      " 12%|█▎        | 1/8 [00:16<01:52, 16.09s/it]\u001b[A\n",
      " 25%|██▌       | 2/8 [00:32<01:37, 16.27s/it]\u001b[A\n",
      " 38%|███▊      | 3/8 [00:48<01:21, 16.26s/it]\u001b[A\n",
      " 50%|█████     | 4/8 [01:04<01:04, 16.25s/it]\u001b[A\n",
      " 62%|██████▎   | 5/8 [01:21<00:48, 16.28s/it]\u001b[A\n",
      " 75%|███████▌  | 6/8 [01:37<00:32, 16.27s/it]\u001b[A\n",
      " 88%|████████▊ | 7/8 [01:53<00:16, 16.28s/it]\u001b[A\n",
      "100%|██████████| 8/8 [02:10<00:00, 16.26s/it]\u001b[A\n",
      " 40%|████      | 4/10 [08:41<13:02, 130.38s/it]\n",
      "  0%|          | 0/8 [00:00<?, ?it/s]\u001b[A\n",
      " 12%|█▎        | 1/8 [00:16<01:52, 16.06s/it]\u001b[A\n",
      " 25%|██▌       | 2/8 [00:32<01:37, 16.25s/it]\u001b[A\n",
      " 38%|███▊      | 3/8 [00:48<01:21, 16.25s/it]\u001b[A\n",
      " 50%|█████     | 4/8 [01:04<01:04, 16.24s/it]\u001b[A\n",
      " 62%|██████▎   | 5/8 [01:21<00:48, 16.27s/it]\u001b[A\n",
      " 75%|███████▌  | 6/8 [01:37<00:32, 16.26s/it]\u001b[A\n",
      " 88%|████████▊ | 7/8 [01:53<00:16, 16.28s/it]\u001b[A\n",
      "100%|██████████| 8/8 [02:10<00:00, 16.26s/it]\u001b[A\n",
      " 50%|█████     | 5/10 [10:51<10:51, 130.38s/it]\n",
      "  0%|          | 0/8 [00:00<?, ?it/s]\u001b[A\n",
      " 12%|█▎        | 1/8 [00:16<01:52, 16.10s/it]\u001b[A\n",
      " 25%|██▌       | 2/8 [00:32<01:37, 16.27s/it]\u001b[A\n",
      " 38%|███▊      | 3/8 [00:48<01:21, 16.26s/it]\u001b[A\n",
      " 50%|█████     | 4/8 [01:04<01:04, 16.25s/it]\u001b[A\n",
      " 62%|██████▎   | 5/8 [01:21<00:48, 16.28s/it]\u001b[A\n",
      " 75%|███████▌  | 6/8 [01:37<00:32, 16.26s/it]\u001b[A\n",
      " 88%|████████▊ | 7/8 [01:53<00:16, 16.28s/it]\u001b[A\n",
      "100%|██████████| 8/8 [02:10<00:00, 16.26s/it]\u001b[A\n",
      " 60%|██████    | 6/10 [13:02<08:41, 130.39s/it]\n",
      "  0%|          | 0/8 [00:00<?, ?it/s]\u001b[A\n",
      " 12%|█▎        | 1/8 [00:16<01:52, 16.10s/it]\u001b[A\n",
      " 25%|██▌       | 2/8 [00:32<01:37, 16.28s/it]\u001b[A\n",
      " 38%|███▊      | 3/8 [00:48<01:21, 16.28s/it]\u001b[A\n",
      " 50%|█████     | 4/8 [01:05<01:05, 16.25s/it]\u001b[A\n",
      " 62%|██████▎   | 5/8 [01:21<00:48, 16.28s/it]\u001b[A\n",
      " 75%|███████▌  | 6/8 [01:37<00:32, 16.25s/it]\u001b[A\n",
      " 88%|████████▊ | 7/8 [01:53<00:16, 16.26s/it]\u001b[A\n",
      "100%|██████████| 8/8 [02:10<00:00, 16.25s/it]\u001b[A\n",
      " 70%|███████   | 7/10 [15:12<06:31, 130.37s/it]\n",
      "  0%|          | 0/8 [00:00<?, ?it/s]\u001b[A\n",
      " 12%|█▎        | 1/8 [00:16<01:52, 16.08s/it]\u001b[A\n",
      " 25%|██▌       | 2/8 [00:32<01:37, 16.25s/it]\u001b[A\n",
      " 38%|███▊      | 3/8 [00:48<01:21, 16.25s/it]\u001b[A\n",
      " 50%|█████     | 4/8 [01:04<01:04, 16.24s/it]\u001b[A\n",
      " 62%|██████▎   | 5/8 [01:21<00:48, 16.26s/it]\u001b[A\n",
      " 75%|███████▌  | 6/8 [01:37<00:32, 16.25s/it]\u001b[A\n",
      " 88%|████████▊ | 7/8 [01:53<00:16, 16.27s/it]\u001b[A\n",
      "100%|██████████| 8/8 [02:09<00:00, 16.25s/it]\u001b[A\n",
      " 80%|████████  | 8/10 [17:22<04:20, 130.34s/it]\n",
      "  0%|          | 0/8 [00:00<?, ?it/s]\u001b[A\n",
      " 12%|█▎        | 1/8 [00:16<01:52, 16.07s/it]\u001b[A\n",
      " 25%|██▌       | 2/8 [00:32<01:37, 16.25s/it]\u001b[A\n",
      " 38%|███▊      | 3/8 [00:48<01:21, 16.23s/it]\u001b[A\n",
      " 50%|█████     | 4/8 [01:04<01:04, 16.23s/it]\u001b[A\n",
      " 62%|██████▎   | 5/8 [01:21<00:48, 16.26s/it]\u001b[A\n",
      " 75%|███████▌  | 6/8 [01:37<00:32, 16.25s/it]\u001b[A\n",
      " 88%|████████▊ | 7/8 [01:53<00:16, 16.27s/it]\u001b[A\n",
      "100%|██████████| 8/8 [02:09<00:00, 16.25s/it]\u001b[A\n",
      " 90%|█████████ | 9/10 [19:33<02:10, 130.33s/it]\n",
      "  0%|          | 0/8 [00:00<?, ?it/s]\u001b[A\n",
      " 12%|█▎        | 1/8 [00:16<01:52, 16.08s/it]\u001b[A\n",
      " 25%|██▌       | 2/8 [00:32<01:37, 16.25s/it]\u001b[A\n",
      " 38%|███▊      | 3/8 [00:48<01:21, 16.25s/it]\u001b[A\n",
      " 50%|█████     | 4/8 [01:04<01:04, 16.24s/it]\u001b[A\n",
      " 62%|██████▎   | 5/8 [01:21<00:48, 16.27s/it]\u001b[A\n",
      " 75%|███████▌  | 6/8 [01:37<00:32, 16.26s/it]\u001b[A\n",
      " 88%|████████▊ | 7/8 [01:53<00:16, 16.27s/it]\u001b[A\n",
      "100%|██████████| 8/8 [02:10<00:00, 16.25s/it]\u001b[A\n",
      "100%|██████████| 10/10 [21:43<00:00, 130.36s/it]"
     ]
    },
    {
     "name": "stdout",
     "output_type": "stream",
     "text": [
      "CPU times: user 8min 49s, sys: 14min 26s, total: 23min 16s\n",
      "Wall time: 23min 12s\n"
     ]
    },
    {
     "name": "stderr",
     "output_type": "stream",
     "text": [
      "\n"
     ]
    }
   ],
   "source": [
    "%%time\n",
    "exp_dct= dct.ExponentialDCT(num_factors=NUM_FACTORS)\n",
    "U,V = exp_dct.fit(delta_acts_single, X, Y, batch_size=BACKWARD_BATCH_SIZE, factor_batch_size=FACTOR_BATCH_SIZE,\n",
    "            init=\"jacobian\", d_proj=DIM_OUTPUT_PROJECTION, input_scale=INPUT_SCALE, max_iters=NUM_ITERS, beta=1.0)"
   ]
  },
  {
   "cell_type": "code",
   "execution_count": 14,
   "id": "7394f4fe-9949-41a7-83bf-04ca5b20d470",
   "metadata": {},
   "outputs": [
    {
     "data": {
      "text/plain": [
       "[<matplotlib.lines.Line2D at 0x7f7d5c077f10>]"
      ]
     },
     "execution_count": 14,
     "metadata": {},
     "output_type": "execute_result"
    },
    {
     "data": {
      "image/png": "[encoded data removed]",
      "text/plain": [
       "<Figure size 640x480 with 1 Axes>"
      ]
     },
     "metadata": {},
     "output_type": "display_data"
    }
   ],
   "source": [
    "from matplotlib import pyplot as plt\n",
    "plt.plot(exp_dct.objective_values)"
   ]
  },
  {
   "cell_type": "markdown",
   "id": "c524874c-2ba6-4e67-8bcf-6067e6e797cb",
   "metadata": {},
   "source": [
    "# Visualize factor similarities"
   ]
  },
  {
   "cell_type": "code",
   "execution_count": 15,
   "id": "df467a50-1111-4c61-80d9-3402c096cd35",
   "metadata": {},
   "outputs": [
    {
     "data": {
      "text/plain": [
       "<seaborn.axisgrid.FacetGrid at 0x7f7cce4810d0>"
      ]
     },
     "execution_count": 15,
     "metadata": {},
     "output_type": "execute_result"
    },
    {
     "data": {
      "image/png": "[encoded data removed]",
      "text/plain": [
       "<Figure size 500x500 with 1 Axes>"
      ]
     },
     "metadata": {},
     "output_type": "display_data"
    }
   ],
   "source": [
    "with torch.no_grad():\n",
    "    simu = (U.t() @ U)\n",
    "    simu = simu[torch.triu(torch.ones_like(simu), diagonal=1).bool()]\n",
    "import seaborn as sns\n",
    "sns.displot(simu.cpu())\n"
   ]
  },
  {
   "cell_type": "code",
   "execution_count": 16,
   "id": "5d5ad816-41d2-4675-bc60-093eb90d6c37",
   "metadata": {},
   "outputs": [
    {
     "data": {
      "text/plain": [
       "<seaborn.axisgrid.FacetGrid at 0x7f7d242ade50>"
      ]
     },
     "execution_count": 16,
     "metadata": {},
     "output_type": "execute_result"
    },
    {
     "data": {
      "image/png": "[encoded data removed]",
      "text/plain": [
       "<Figure size 500x500 with 1 Axes>"
      ]
     },
     "metadata": {},
     "output_type": "display_data"
    }
   ],
   "source": [
    "with torch.no_grad():\n",
    "    simv = (V.t() @ V)\n",
    "    simv = simv[torch.triu(torch.ones_like(simv), diagonal=1).bool()]\n",
    "import seaborn as sns\n",
    "sns.displot(simv.cpu())\n"
   ]
  },
  {
   "cell_type": "markdown",
   "id": "3f8ae107-e4bc-4541-9be5-709ba7065276",
   "metadata": {},
   "source": [
    "# Save"
   ]
  },
  {
   "cell_type": "code",
   "execution_count": 17,
   "id": "847d8a4f-2613-4994-9ac8-91296960d213",
   "metadata": {},
   "outputs": [],
   "source": [
    "torch.save(U, f\"U_deepseek_{NUM_SAMPLES}.pt\")\n",
    "torch.save(V, f\"V_deepseek_{NUM_SAMPLES}.pt\")"
   ]
  }
 ],
 "metadata": {
  "kernelspec": {
   "display_name": "Python 3 (ipykernel)",
   "language": "python",
   "name": "python3"
  },
  "language_info": {
   "codemirror_mode": {
    "name": "ipython",
    "version": 3
   },
   "file_extension": ".py",
   "mimetype": "text/x-python",
   "name": "python",
   "nbconvert_exporter": "python",
   "pygments_lexer": "ipython3",
   "version": "3.11.9"
  }
 },
 "nbformat": 4,
 "nbformat_minor": 5
}
