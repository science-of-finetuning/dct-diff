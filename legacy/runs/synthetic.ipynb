{
 "cells": [
  {
   "cell_type": "code",
   "execution_count": 1,
   "id": "d7d38c4c-7d10-4cd9-95d7-d1823564815f",
   "metadata": {},
   "outputs": [],
   "source": [
    "NUM_TRUE_FACTORS = 32\n",
    "NUM_ESTIMATED_FACTORS = 512"
   ]
  },
  {
   "cell_type": "markdown",
   "id": "b48cb3ef-0723-4d62-a4ac-f3015aaec8d3",
   "metadata": {},
   "source": [
    "# setup"
   ]
  },
  {
   "cell_type": "code",
   "execution_count": 2,
   "id": "cda02026-43fa-496c-a2e7-ec2469a7baec",
   "metadata": {},
   "outputs": [
    {
     "data": {
      "text/plain": [
       "<torch._C.Generator at 0x7f6377b047b0>"
      ]
     },
     "execution_count": 2,
     "metadata": {},
     "output_type": "execute_result"
    }
   ],
   "source": [
    "import math\n",
    "import torch\n",
    "from torch import nn\n",
    "import torch.nn.functional as F\n",
    "import dct\n",
    "from tqdm import tqdm\n",
    "import math\n",
    "from torch import vmap\n",
    "torch.set_default_device(\"cuda\")\n",
    "torch.manual_seed(325)\n"
   ]
  },
  {
   "cell_type": "code",
   "execution_count": 3,
   "id": "59d9caf5-5a30-460a-a2e0-d8a8464a4902",
   "metadata": {},
   "outputs": [],
   "source": [
    "class ExpMLP(nn.Module):\n",
    "  def __init__(self, input_dim, output_dim, hidden_dim):\n",
    "    super().__init__()\n",
    "    self.device=\"cuda\"\n",
    "    self.fc = nn.Linear(input_dim, hidden_dim, bias=False)\n",
    "    with torch.no_grad():\n",
    "        self.fc.weight.data = F.normalize(self.fc.weight.data, dim=1)\n",
    "    self.activation = torch.expm1\n",
    "    self.out = nn.Linear(hidden_dim, output_dim, bias=False)\n",
    "    with torch.no_grad():\n",
    "        self.out.weight.data = F.normalize(self.out.weight.data, dim=0)\n",
    "      \n",
    "\n",
    "  def forward(self, x):\n",
    "    x = self.fc(x)\n",
    "    x = self.activation(x)\n",
    "    x = self.out(x)\n",
    "    return x\n"
   ]
  },
  {
   "cell_type": "code",
   "execution_count": 4,
   "id": "fc48a509-46b9-44e7-8b61-49d183dec178",
   "metadata": {},
   "outputs": [],
   "source": [
    "f = ExpMLP(4096,4096,NUM_TRUE_FACTORS)"
   ]
  },
  {
   "cell_type": "code",
   "execution_count": 5,
   "id": "e667ba94-708d-4685-bd13-fb0b2cb2fbce",
   "metadata": {},
   "outputs": [],
   "source": [
    "X = torch.zeros(1,1,4096)\n",
    "Y = torch.zeros(1,1,4096)\n"
   ]
  },
  {
   "cell_type": "code",
   "execution_count": 6,
   "id": "b9dccc8e-9653-4dd1-8a3e-955ab503d465",
   "metadata": {},
   "outputs": [],
   "source": [
    "delta_acts_single = lambda x, X, Y: f(x).unsqueeze(0)\n",
    "delta_acts_single.device=\"cuda\"\n",
    "delta_acts = vmap(delta_acts_single, in_dims=(1,None,None), out_dims=2,\n",
    "                  chunk_size=512) "
   ]
  },
  {
   "cell_type": "markdown",
   "id": "e7266705-8b48-4d51-98b5-6eac231e70d6",
   "metadata": {},
   "source": [
    "# jacobian init, $\\tau=10$ -> MMCS of $.85$"
   ]
  },
  {
   "cell_type": "code",
   "execution_count": 7,
   "id": "fbd1f24a-4aee-40f8-88dd-96c3f69d080b",
   "metadata": {},
   "outputs": [
    {
     "name": "stdout",
     "output_type": "stream",
     "text": [
      "computing jacobian...\n"
     ]
    },
    {
     "name": "stderr",
     "output_type": "stream",
     "text": [
      "  0%|          | 0/1 [00:00<?, ?it/s]/opt/conda/lib/python3.11/site-packages/torch/autograd/graph.py:768: UserWarning: Attempting to run cuBLAS, but there was no current CUDA context! Attempting to set the primary context... (Triggered internally at /opt/conda/conda-bld/pytorch_1720538456841/work/aten/src/ATen/cuda/CublasHandlePool.cpp:135.)\n",
      "  return Variable._execution_engine.run_backward(  # Calls into the C++ engine to run the backward pass\n",
      "100%|██████████| 1/1 [00:00<00:00,  8.52it/s]\n"
     ]
    },
    {
     "name": "stdout",
     "output_type": "stream",
     "text": [
      "computing SVD of jacobian...\n",
      "computing output directions...\n"
     ]
    },
    {
     "name": "stderr",
     "output_type": "stream",
     "text": [
      "100%|██████████| 1/1 [00:00<00:00, 150.89it/s]\n"
     ]
    },
    {
     "name": "stdout",
     "output_type": "stream",
     "text": [
      "training...\n"
     ]
    },
    {
     "name": "stderr",
     "output_type": "stream",
     "text": [
      "  0%|          | 0/10 [00:00<?, ?it/s]\n",
      "  0%|          | 0/1 [00:00<?, ?it/s]\u001b[A\n",
      "100%|██████████| 1/1 [00:00<00:00,  5.61it/s]\u001b[A\n",
      " 10%|█         | 1/10 [00:00<00:01,  5.06it/s]\n",
      "100%|██████████| 1/1 [00:00<00:00, 18.45it/s]\n",
      "\n",
      "100%|██████████| 1/1 [00:00<00:00, 18.25it/s]\n",
      " 30%|███       | 3/10 [00:00<00:00, 10.24it/s]\n",
      "100%|██████████| 1/1 [00:00<00:00, 16.87it/s]\n",
      "\n",
      "100%|██████████| 1/1 [00:00<00:00, 17.07it/s]\n",
      " 50%|█████     | 5/10 [00:00<00:00, 12.12it/s]\n",
      "100%|██████████| 1/1 [00:00<00:00, 16.73it/s]\n",
      "\n",
      "100%|██████████| 1/1 [00:00<00:00, 16.75it/s]\n",
      " 70%|███████   | 7/10 [00:00<00:00, 13.10it/s]\n",
      "100%|██████████| 1/1 [00:00<00:00, 16.72it/s]\n",
      "\n",
      "100%|██████████| 1/1 [00:00<00:00, 17.01it/s]\n",
      " 90%|█████████ | 9/10 [00:00<00:00, 13.72it/s]\n",
      "100%|██████████| 1/1 [00:00<00:00, 16.76it/s]\n",
      "100%|██████████| 10/10 [00:00<00:00, 12.52it/s]"
     ]
    },
    {
     "name": "stdout",
     "output_type": "stream",
     "text": [
      "CPU times: user 922 ms, sys: 102 ms, total: 1.02 s\n",
      "Wall time: 1.06 s\n"
     ]
    },
    {
     "name": "stderr",
     "output_type": "stream",
     "text": [
      "\n"
     ]
    }
   ],
   "source": [
    "%%time\n",
    "exp_dct= dct.ExponentialDCT(num_factors=NUM_ESTIMATED_FACTORS)\n",
    "U,V = exp_dct.fit(delta_acts_single, X, Y,\n",
    "            init=\"jacobian\", d_proj=32, input_scale=1.0, max_iters=10, beta=1.0)"
   ]
  },
  {
   "cell_type": "code",
   "execution_count": 8,
   "id": "1a06d5ad-5be4-421f-9eee-3c42f2938450",
   "metadata": {},
   "outputs": [
    {
     "data": {
      "text/plain": [
       "[<matplotlib.lines.Line2D at 0x7f6004821610>]"
      ]
     },
     "execution_count": 8,
     "metadata": {},
     "output_type": "execute_result"
    },
    {
     "data": {
      "image/png": "[encoded data removed]",
      "text/plain": [
       "<Figure size 640x480 with 1 Axes>"
      ]
     },
     "metadata": {},
     "output_type": "display_data"
    }
   ],
   "source": [
    "from matplotlib import pyplot as plt\n",
    "plt.plot(exp_dct.objective_values)"
   ]
  },
  {
   "cell_type": "code",
   "execution_count": null,
   "id": "492f00da-3557-424d-a39f-9e1decf54e54",
   "metadata": {},
   "outputs": [],
   "source": []
  },
  {
   "cell_type": "code",
   "execution_count": 9,
   "id": "18c25fa9-fb04-4056-b9e0-71a19e8bfb84",
   "metadata": {},
   "outputs": [
    {
     "name": "stdout",
     "output_type": "stream",
     "text": [
      "recovery rate (>.99 similarity): 0.25\n",
      "mmcs: 0.85\n"
     ]
    }
   ],
   "source": [
    "with torch.no_grad():\n",
    "    sim = f.fc.weight.data @ exp_dct.V\n",
    "recovery_rate = (sim.max(1).values>.99).sum() / NUM_TRUE_FACTORS\n",
    "mmcs = sim.max(1).values.mean().item()\n",
    "print(f\"recovery rate (>.99 similarity): {recovery_rate:.2f}\")\n",
    "print(f\"mmcs: {mmcs:.2f}\")"
   ]
  },
  {
   "cell_type": "code",
   "execution_count": null,
   "id": "a71d0b4d-d476-423f-8101-3fc9f45746e9",
   "metadata": {},
   "outputs": [],
   "source": []
  },
  {
   "cell_type": "markdown",
   "id": "3f56b773-9347-45cc-9b59-562dad939aac",
   "metadata": {},
   "source": [
    "# random init, $\\tau=100$ iterations -> MMCS of $.99$"
   ]
  },
  {
   "cell_type": "code",
   "execution_count": 10,
   "id": "2231fdc6-70bd-4902-ba3f-1d2f54f3f416",
   "metadata": {
    "scrolled": true
   },
   "outputs": [
    {
     "name": "stdout",
     "output_type": "stream",
     "text": [
      "initializing V,U...\n",
      "training...\n"
     ]
    },
    {
     "name": "stderr",
     "output_type": "stream",
     "text": [
      "  0%|          | 0/100 [00:00<?, ?it/s]\n",
      "100%|██████████| 1/1 [00:00<00:00, 16.38it/s]\n",
      "\n",
      "100%|██████████| 1/1 [00:00<00:00, 17.16it/s]\n",
      "  2%|▏         | 2/100 [00:00<00:06, 14.79it/s]\n",
      "100%|██████████| 1/1 [00:00<00:00, 16.46it/s]\n",
      "\n",
      "100%|██████████| 1/1 [00:00<00:00, 16.93it/s]\n",
      "  4%|▍         | 4/100 [00:00<00:06, 14.62it/s]\n",
      "100%|██████████| 1/1 [00:00<00:00, 17.20it/s]\n",
      "\n",
      "100%|██████████| 1/1 [00:00<00:00, 17.20it/s]\n",
      "  6%|▌         | 6/100 [00:00<00:06, 14.90it/s]\n",
      "100%|██████████| 1/1 [00:00<00:00, 17.28it/s]\n",
      "\n",
      "100%|██████████| 1/1 [00:00<00:00, 16.96it/s]\n",
      "  8%|▊         | 8/100 [00:00<00:06, 14.98it/s]\n",
      "100%|██████████| 1/1 [00:00<00:00, 16.59it/s]\n",
      "\n",
      "100%|██████████| 1/1 [00:00<00:00, 18.27it/s]\n",
      " 10%|█         | 10/100 [00:00<00:05, 15.13it/s]\n",
      "100%|██████████| 1/1 [00:00<00:00, 17.66it/s]\n",
      "\n",
      "100%|██████████| 1/1 [00:00<00:00, 17.72it/s]\n",
      " 12%|█▏        | 12/100 [00:00<00:05, 15.23it/s]\n",
      "100%|██████████| 1/1 [00:00<00:00, 16.81it/s]\n",
      "\n",
      "100%|██████████| 1/1 [00:00<00:00, 17.49it/s]\n",
      " 14%|█▍        | 14/100 [00:00<00:05, 15.18it/s]\n",
      "100%|██████████| 1/1 [00:00<00:00, 16.76it/s]\n",
      "\n",
      "100%|██████████| 1/1 [00:00<00:00, 17.65it/s]\n",
      " 16%|█▌        | 16/100 [00:01<00:05, 15.19it/s]\n",
      "100%|██████████| 1/1 [00:00<00:00, 16.94it/s]\n",
      "\n",
      "100%|██████████| 1/1 [00:00<00:00, 17.37it/s]\n",
      " 18%|█▊        | 18/100 [00:01<00:05, 15.08it/s]\n",
      "100%|██████████| 1/1 [00:00<00:00, 17.38it/s]\n",
      "\n",
      "100%|██████████| 1/1 [00:00<00:00, 16.48it/s]\n",
      " 20%|██        | 20/100 [00:01<00:05, 15.07it/s]\n",
      "100%|██████████| 1/1 [00:00<00:00, 17.20it/s]\n",
      "\n",
      "100%|██████████| 1/1 [00:00<00:00, 18.51it/s]\n",
      " 22%|██▏       | 22/100 [00:01<00:05, 15.29it/s]\n",
      "100%|██████████| 1/1 [00:00<00:00, 17.46it/s]\n",
      "\n",
      "100%|██████████| 1/1 [00:00<00:00, 16.81it/s]\n",
      " 24%|██▍       | 24/100 [00:01<00:05, 15.14it/s]\n",
      "100%|██████████| 1/1 [00:00<00:00, 17.48it/s]\n",
      "\n",
      "100%|██████████| 1/1 [00:00<00:00, 17.01it/s]\n",
      " 26%|██▌       | 26/100 [00:01<00:04, 15.21it/s]\n",
      "100%|██████████| 1/1 [00:00<00:00, 17.44it/s]\n",
      "\n",
      "100%|██████████| 1/1 [00:00<00:00, 17.48it/s]\n",
      " 28%|██▊       | 28/100 [00:01<00:04, 15.29it/s]\n",
      "100%|██████████| 1/1 [00:00<00:00, 17.64it/s]\n",
      "\n",
      "100%|██████████| 1/1 [00:00<00:00, 17.06it/s]\n",
      " 30%|███       | 30/100 [00:01<00:04, 15.31it/s]\n",
      "100%|██████████| 1/1 [00:00<00:00, 17.51it/s]\n",
      "\n",
      "100%|██████████| 1/1 [00:00<00:00, 18.64it/s]\n",
      " 32%|███▏      | 32/100 [00:02<00:04, 15.59it/s]\n",
      "100%|██████████| 1/1 [00:00<00:00, 17.51it/s]\n",
      "\n",
      "100%|██████████| 1/1 [00:00<00:00, 17.63it/s]\n",
      " 34%|███▍      | 34/100 [00:02<00:04, 15.60it/s]\n",
      "100%|██████████| 1/1 [00:00<00:00, 17.41it/s]\n",
      "\n",
      "100%|██████████| 1/1 [00:00<00:00, 16.28it/s]\n",
      " 36%|███▌      | 36/100 [00:02<00:04, 15.40it/s]\n",
      "100%|██████████| 1/1 [00:00<00:00, 17.52it/s]\n",
      "\n",
      "100%|██████████| 1/1 [00:00<00:00, 17.20it/s]\n",
      " 38%|███▊      | 38/100 [00:02<00:04, 15.30it/s]\n",
      "100%|██████████| 1/1 [00:00<00:00, 15.97it/s]\n",
      "\n",
      "100%|██████████| 1/1 [00:00<00:00, 16.74it/s]\n",
      " 40%|████      | 40/100 [00:02<00:04, 14.98it/s]\n",
      "100%|██████████| 1/1 [00:00<00:00, 17.38it/s]\n",
      "\n",
      "100%|██████████| 1/1 [00:00<00:00, 17.61it/s]\n",
      " 42%|████▏     | 42/100 [00:02<00:03, 15.04it/s]\n",
      "100%|██████████| 1/1 [00:00<00:00, 17.52it/s]\n",
      "\n",
      "100%|██████████| 1/1 [00:00<00:00, 17.20it/s]\n",
      " 44%|████▍     | 44/100 [00:02<00:03, 15.05it/s]\n",
      "100%|██████████| 1/1 [00:00<00:00, 17.37it/s]\n",
      "\n",
      "100%|██████████| 1/1 [00:00<00:00, 16.97it/s]\n",
      " 46%|████▌     | 46/100 [00:03<00:03, 14.88it/s]\n",
      "100%|██████████| 1/1 [00:00<00:00, 17.30it/s]\n",
      "\n",
      "100%|██████████| 1/1 [00:00<00:00, 16.58it/s]\n",
      " 48%|████▊     | 48/100 [00:03<00:03, 14.80it/s]\n",
      "100%|██████████| 1/1 [00:00<00:00, 17.65it/s]\n",
      "\n",
      "100%|██████████| 1/1 [00:00<00:00, 17.53it/s]\n",
      " 50%|█████     | 50/100 [00:03<00:03, 14.93it/s]\n",
      "100%|██████████| 1/1 [00:00<00:00, 17.39it/s]\n",
      "\n",
      "100%|██████████| 1/1 [00:00<00:00, 17.29it/s]\n",
      " 52%|█████▏    | 52/100 [00:03<00:03, 15.00it/s]\n",
      "100%|██████████| 1/1 [00:00<00:00, 17.33it/s]\n",
      "\n",
      "100%|██████████| 1/1 [00:00<00:00, 17.44it/s]\n",
      " 54%|█████▍    | 54/100 [00:03<00:03, 14.97it/s]\n",
      "100%|██████████| 1/1 [00:00<00:00, 17.35it/s]\n",
      "\n",
      "100%|██████████| 1/1 [00:00<00:00, 17.57it/s]\n",
      " 56%|█████▌    | 56/100 [00:03<00:02, 15.06it/s]\n",
      "100%|██████████| 1/1 [00:00<00:00, 17.62it/s]\n",
      "\n",
      "100%|██████████| 1/1 [00:00<00:00, 17.80it/s]\n",
      " 58%|█████▊    | 58/100 [00:03<00:02, 15.17it/s]\n",
      "100%|██████████| 1/1 [00:00<00:00, 17.25it/s]\n",
      "\n",
      "100%|██████████| 1/1 [00:00<00:00, 17.30it/s]\n",
      " 60%|██████    | 60/100 [00:03<00:02, 15.22it/s]\n",
      "100%|██████████| 1/1 [00:00<00:00, 17.20it/s]\n",
      "\n",
      "100%|██████████| 1/1 [00:00<00:00, 16.48it/s]\n",
      " 62%|██████▏   | 62/100 [00:04<00:02, 15.14it/s]\n",
      "100%|██████████| 1/1 [00:00<00:00, 17.55it/s]\n",
      "\n",
      "100%|██████████| 1/1 [00:00<00:00, 17.36it/s]\n",
      " 64%|██████▍   | 64/100 [00:04<00:02, 15.19it/s]\n",
      "100%|██████████| 1/1 [00:00<00:00, 17.22it/s]\n",
      "\n",
      "100%|██████████| 1/1 [00:00<00:00, 17.08it/s]\n",
      " 66%|██████▌   | 66/100 [00:04<00:02, 15.11it/s]\n",
      "100%|██████████| 1/1 [00:00<00:00, 17.92it/s]\n",
      "\n",
      "100%|██████████| 1/1 [00:00<00:00, 17.13it/s]\n",
      " 68%|██████▊   | 68/100 [00:04<00:02, 15.20it/s]\n",
      "100%|██████████| 1/1 [00:00<00:00, 17.62it/s]\n",
      "\n",
      "100%|██████████| 1/1 [00:00<00:00, 17.71it/s]\n",
      " 70%|███████   | 70/100 [00:04<00:01, 15.38it/s]\n",
      "100%|██████████| 1/1 [00:00<00:00, 17.34it/s]\n",
      "\n",
      "100%|██████████| 1/1 [00:00<00:00, 18.00it/s]\n",
      " 72%|███████▏  | 72/100 [00:04<00:01, 15.48it/s]\n",
      "100%|██████████| 1/1 [00:00<00:00, 17.26it/s]\n",
      "\n",
      "100%|██████████| 1/1 [00:00<00:00, 17.43it/s]\n",
      " 74%|███████▍  | 74/100 [00:04<00:01, 15.42it/s]\n",
      "100%|██████████| 1/1 [00:00<00:00, 17.47it/s]\n",
      "\n",
      "100%|██████████| 1/1 [00:00<00:00, 16.81it/s]\n",
      " 76%|███████▌  | 76/100 [00:05<00:01, 15.26it/s]\n",
      "100%|██████████| 1/1 [00:00<00:00, 17.69it/s]\n",
      "\n",
      "100%|██████████| 1/1 [00:00<00:00, 17.44it/s]\n",
      " 78%|███████▊  | 78/100 [00:05<00:01, 15.30it/s]\n",
      "100%|██████████| 1/1 [00:00<00:00, 17.56it/s]\n",
      "\n",
      "100%|██████████| 1/1 [00:00<00:00, 16.96it/s]\n",
      " 80%|████████  | 80/100 [00:05<00:01, 15.20it/s]\n",
      "100%|██████████| 1/1 [00:00<00:00, 16.85it/s]\n",
      "\n",
      "100%|██████████| 1/1 [00:00<00:00, 17.32it/s]\n",
      " 82%|████████▏ | 82/100 [00:05<00:01, 15.12it/s]\n",
      "100%|██████████| 1/1 [00:00<00:00, 16.46it/s]\n",
      "\n",
      "100%|██████████| 1/1 [00:00<00:00, 17.65it/s]\n",
      " 84%|████████▍ | 84/100 [00:05<00:01, 15.10it/s]\n",
      "100%|██████████| 1/1 [00:00<00:00, 17.36it/s]\n",
      "\n",
      "100%|██████████| 1/1 [00:00<00:00, 17.04it/s]\n",
      " 86%|████████▌ | 86/100 [00:05<00:00, 15.08it/s]\n",
      "100%|██████████| 1/1 [00:00<00:00, 17.28it/s]\n",
      "\n",
      "100%|██████████| 1/1 [00:00<00:00, 17.13it/s]\n",
      " 88%|████████▊ | 88/100 [00:05<00:00, 15.16it/s]\n",
      "100%|██████████| 1/1 [00:00<00:00, 16.88it/s]\n",
      "\n",
      "100%|██████████| 1/1 [00:00<00:00, 16.27it/s]\n",
      " 90%|█████████ | 90/100 [00:05<00:00, 14.86it/s]\n",
      "100%|██████████| 1/1 [00:00<00:00, 16.73it/s]\n",
      "\n",
      "100%|██████████| 1/1 [00:00<00:00, 17.35it/s]\n",
      " 92%|█████████▏| 92/100 [00:06<00:00, 14.85it/s]\n",
      "100%|██████████| 1/1 [00:00<00:00, 17.73it/s]\n",
      "\n",
      "100%|██████████| 1/1 [00:00<00:00, 17.11it/s]\n",
      " 94%|█████████▍| 94/100 [00:06<00:00, 14.95it/s]\n",
      "100%|██████████| 1/1 [00:00<00:00, 17.21it/s]\n",
      "\n",
      "100%|██████████| 1/1 [00:00<00:00, 17.01it/s]\n",
      " 96%|█████████▌| 96/100 [00:06<00:00, 14.90it/s]\n",
      "100%|██████████| 1/1 [00:00<00:00, 17.59it/s]\n",
      "\n",
      "100%|██████████| 1/1 [00:00<00:00, 15.37it/s]\n",
      " 98%|█████████▊| 98/100 [00:06<00:00, 14.78it/s]\n",
      "100%|██████████| 1/1 [00:00<00:00, 17.12it/s]\n",
      "\n",
      "100%|██████████| 1/1 [00:00<00:00, 17.57it/s]\n",
      "100%|██████████| 100/100 [00:06<00:00, 15.11it/s]"
     ]
    },
    {
     "name": "stdout",
     "output_type": "stream",
     "text": [
      "CPU times: user 6.77 s, sys: 291 ms, total: 7.07 s\n",
      "Wall time: 6.63 s\n"
     ]
    },
    {
     "name": "stderr",
     "output_type": "stream",
     "text": [
      "\n"
     ]
    }
   ],
   "source": [
    "%%time\n",
    "exp_dct= dct.ExponentialDCT(num_factors=NUM_ESTIMATED_FACTORS)\n",
    "U,V = exp_dct.fit(delta_acts_single, X, Y,\n",
    "            init=\"random\", d_proj=32, input_scale=1.0, max_iters=100, beta=1.0)"
   ]
  },
  {
   "cell_type": "code",
   "execution_count": 11,
   "id": "31fa26fe-7a50-4fa8-8d09-d2781b0256ca",
   "metadata": {},
   "outputs": [
    {
     "data": {
      "text/plain": [
       "[<matplotlib.lines.Line2D at 0x7f600465ec50>]"
      ]
     },
     "execution_count": 11,
     "metadata": {},
     "output_type": "execute_result"
    },
    {
     "data": {
      "image/png": "[encoded data removed]",
      "text/plain": [
       "<Figure size 640x480 with 1 Axes>"
      ]
     },
     "metadata": {},
     "output_type": "display_data"
    }
   ],
   "source": [
    "from matplotlib import pyplot as plt\n",
    "plt.plot(exp_dct.objective_values)"
   ]
  },
  {
   "cell_type": "code",
   "execution_count": 12,
   "id": "9dd12e63-5784-4032-9829-f7be24dae6d3",
   "metadata": {},
   "outputs": [
    {
     "name": "stdout",
     "output_type": "stream",
     "text": [
      "recovery rate (>.99 similarity): 0.84\n",
      "mmcs: 0.99\n"
     ]
    }
   ],
   "source": [
    "with torch.no_grad():\n",
    "    sim = f.fc.weight.data @ exp_dct.V\n",
    "recovery_rate = (sim.max(1).values>.99).sum() / NUM_TRUE_FACTORS\n",
    "mmcs = sim.max(1).values.mean().item()\n",
    "print(f\"recovery rate (>.99 similarity): {recovery_rate:.2f}\")\n",
    "print(f\"mmcs: {mmcs:.2f}\")"
   ]
  },
  {
   "cell_type": "markdown",
   "id": "f70e4c69-06cc-4332-b0c6-d86f4487e386",
   "metadata": {},
   "source": [
    "# conclusion"
   ]
  },
  {
   "cell_type": "markdown",
   "id": "d1e21c53-54a5-47ef-a0b1-4833f7db23c8",
   "metadata": {},
   "source": [
    "We can get >.99 maximum-mean-cosine-similarity (MMCS) recovery in a synthetic setting (for the \"easy\" case of $m^*=32$) if we deviate slightly from hyper-parameters used in practice. The main difference is that this seems to require a *random* initialization of $\\hat U, \\hat V$, rather than the projected Jacobian initialization (even though qualitatively this seems to deliver *worse* results on real LLMs). Furthermore, it appears we need more iterations to guarantee perfect recovery ($\\tau=100$ in the above run, vs $\\tau=10$ in the real-life experiments).\n",
    "\n",
    "If we do something closer to practice, then we only get an MMCS of $.85$ (although we at least recover $25\\%$ of the true source-layer features exactly, i.e. with similarity $>.99$).\n",
    "\n",
    "In future work, it would be useful to understand:\n",
    "1. what distribution of synthetic data most closely matches what we expect to see in real-life transformers\n",
    "2. whether iterating algorithmically on the synthetic setting in 1) can get us better performance \"in the wild\".\n"
   ]
  },
  {
   "cell_type": "code",
   "execution_count": null,
   "id": "a79c322b-3252-4f2e-875f-223664b74608",
   "metadata": {},
   "outputs": [],
   "source": []
  }
 ],
 "metadata": {
  "kernelspec": {
   "display_name": "Python 3 (ipykernel)",
   "language": "python",
   "name": "python3"
  },
  "language_info": {
   "codemirror_mode": {
    "name": "ipython",
    "version": 3
   },
   "file_extension": ".py",
   "mimetype": "text/x-python",
   "name": "python",
   "nbconvert_exporter": "python",
   "pygments_lexer": "ipython3",
   "version": "3.11.9"
  }
 },
 "nbformat": 4,
 "nbformat_minor": 5
}
